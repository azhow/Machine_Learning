{
  "nbformat": 4,
  "nbformat_minor": 0,
  "metadata": {
    "colab": {
      "name": "Trabalho_Decision_Trees",
      "provenance": [],
      "collapsed_sections": []
    },
    "kernelspec": {
      "name": "python3",
      "display_name": "Python 3"
    },
    "language_info": {
      "name": "python"
    }
  },
  "cells": [
    {
      "cell_type": "markdown",
      "metadata": {
        "id": "IFLPdphNovzc"
      },
      "source": [
        "# Pré-execução\n",
        "\n",
        "Rode esta seção para baixar os dados de entrada"
      ]
    },
    {
      "cell_type": "code",
      "metadata": {
        "colab": {
          "base_uri": "https://localhost:8080/"
        },
        "id": "LGncsHxXePUy",
        "outputId": "298d2b05-18d1-4888-c69f-66abb3954e81"
      },
      "source": [
        "!git clone https://github.com/azhow/Machine_Learning.git"
      ],
      "execution_count": 30,
      "outputs": [
        {
          "output_type": "stream",
          "name": "stdout",
          "text": [
            "fatal: destination path 'Machine_Learning' already exists and is not an empty directory.\n"
          ]
        }
      ]
    },
    {
      "cell_type": "markdown",
      "metadata": {
        "id": "FFJ47OlCp0-Z"
      },
      "source": [
        "## Carregamento dos dados de entrada"
      ]
    },
    {
      "cell_type": "code",
      "metadata": {
        "id": "rORClwsNb032"
      },
      "source": [
        "# Reads the data from CSV\n",
        "import numpy as np\n",
        "import pandas as pd\n",
        "from sklearn.model_selection import train_test_split\n",
        "from sklearn import tree\n",
        "import graphviz\n",
        "from sklearn.metrics import accuracy_score\n",
        "import csv\n",
        "\n",
        "INPUT_PATH = \"./Machine_Learning/DT/diabetes.csv\"\n",
        "\n",
        "dataframe = pd.read_csv(INPUT_PATH, header=0)\n",
        "x, y = dataframe.iloc[:, :-1], dataframe.iloc[:, [-1]]"
      ],
      "execution_count": 31,
      "outputs": []
    },
    {
      "cell_type": "markdown",
      "metadata": {
        "id": "ZE8S3oJvopP3"
      },
      "source": [
        "# Experimento A\n",
        "\n",
        "Abaixo se encontra o código utilizado para gerar os dados para o experimento A.\n",
        "São produzidos os seguintes arquivos:\n",
        "\n",
        "    * baseline.csv - contém o resultado de todas execuções tanto para a implementação que utiliza a medida Gini quanto para a medida de entropia.\n",
        "\n",
        "    * ENTROPY_BASELINE.png - contém a imagem da árvore de decisão do algoritmo que utiliza a medida de entropia.\n",
        "    \n",
        "    * GINI_BASELINE.png - contém a imagem da árvore de decisão da medida Gini. "
      ]
    },
    {
      "cell_type": "markdown",
      "metadata": {
        "id": "pLwwEohLprSu"
      },
      "source": [
        "## Parâmetros de execução\n",
        "\n",
        "Aqui podes definir os parâmetros para a execução dos experimentos"
      ]
    },
    {
      "cell_type": "code",
      "metadata": {
        "id": "qKHHIgNcbMX9"
      },
      "source": [
        "# Consts declaration\n",
        "GINI_BASELINE_GRAPH_FILE = \"./Machine_Learning/DT/GINI_BASELINE.dot\"\n",
        "ENTROPY_BASELINE_GRAPH_FILE = \"./Machine_Learning/DT/ENTROPY_BASELINE.dot\"\n",
        "BASELINE_EXPERIMENTS = \"./Machine_Learning/DT/baseline.csv\"\n",
        "NUM_OF_RUNS = 100"
      ],
      "execution_count": 2,
      "outputs": []
    },
    {
      "cell_type": "markdown",
      "metadata": {
        "id": "yyfmOQD4p8U6"
      },
      "source": [
        "## Execução dos experimentos e exportação para arquivo CSV"
      ]
    },
    {
      "cell_type": "code",
      "metadata": {
        "id": "wvg8LHKkbUdC"
      },
      "source": [
        "# Runs the data the defined number of times and saves the run results\n",
        "run_results = [[\"gini\", \"entropy\"]]\n",
        "\n",
        "for i in range(NUM_OF_RUNS):\n",
        "    X_train, X_test, Y_train, Y_test = train_test_split(np.array(x), np.array(y).squeeze(), train_size=0.8)\n",
        "    \n",
        "    classifier_gini = tree.DecisionTreeClassifier(criterion='gini')\n",
        "    classifier_gini = classifier_gini.fit(X_train, Y_train)\n",
        "    with open(GINI_BASELINE_GRAPH_FILE, 'w') as out_file:\n",
        "        dot_data = tree.export_graphviz(classifier_gini, feature_names=x.columns, out_file=out_file)\n",
        "    \n",
        "    classifier_entropy = tree.DecisionTreeClassifier(criterion='entropy')\n",
        "    classifier_entropy = classifier_entropy.fit(X_train, Y_train)\n",
        "    with open(ENTROPY_BASELINE_GRAPH_FILE, 'w') as out_file:\n",
        "        dot_data = tree.export_graphviz(classifier_entropy, feature_names=x.columns, out_file=out_file)\n",
        "    \n",
        "    Y_pred_gini = classifier_gini.predict(X_test)\n",
        "    Y_pred_entropy = classifier_entropy.predict(X_test)\n",
        "\n",
        "    run_results.append([accuracy_score(Y_test, Y_pred_gini), accuracy_score(Y_test, Y_pred_entropy)])  \n",
        "\n",
        "# Save experiments results to CSV file\n",
        "with open(BASELINE_EXPERIMENTS, 'w') as f:\n",
        "    writer = csv.writer(f)\n",
        "    for result in run_results:\n",
        "        # write the data\n",
        "        writer.writerow(result)\n",
        "\n",
        "f.close()\n"
      ],
      "execution_count": 4,
      "outputs": []
    },
    {
      "cell_type": "markdown",
      "metadata": {
        "id": "1j5DEoHTqB3j"
      },
      "source": [
        "## Geração das imagens a partir dos arquivos .dot"
      ]
    },
    {
      "cell_type": "code",
      "metadata": {
        "id": "4Ovyo_J2zoxU"
      },
      "source": [
        "!dot -Tpng ./Machine_Learning/DT/GINI_BASELINE.dot -o ./Machine_Learning/DT/GINI_BASELINE.png \n",
        "!dot -Tpng ./Machine_Learning/DT/ENTROPY_BASELINE.dot -o ./Machine_Learning/DT/ENTROPY_BASELINE.png "
      ],
      "execution_count": 5,
      "outputs": []
    },
    {
      "cell_type": "markdown",
      "metadata": {
        "id": "yhVY6sCVruUA"
      },
      "source": [
        "# Experimento B\n",
        "\n",
        "Abaixo se encontra o código utilizado para gerar os dados para o experimento A.\n",
        "São produzidos os seguintes arquivos:\n",
        "\n",
        "    * modified.csv - contém o resultado de todas execuções tanto para a implementação que utiliza a medida Gini quanto para a medida de entropia.\n",
        "\n",
        "    * GINI_MODIFIED_X.png - contém a imagem da árvore de decisão do algoritmo.\n",
        "    \n",
        "    * GINI_BASELINE.png - contém a imagem da árvore de decisão da medida Gini. "
      ]
    },
    {
      "cell_type": "markdown",
      "metadata": {
        "id": "sGHjXEaPr1M2"
      },
      "source": [
        "## Parâmetros de execução\n",
        "\n",
        "Aqui podes definir os parâmetros para a execução dos experimentos"
      ]
    },
    {
      "cell_type": "code",
      "metadata": {
        "id": "l_AY4vx4r956"
      },
      "source": [
        "# Consts declaration\n",
        "GINI_BASELINE_GRAPH_FILE = \"./Machine_Learning/DT/GINI_BASELINE.dot\"\n",
        "OUTPUT_PATH = \"./Machine_Learning/DT/\"\n",
        "MODIFIED_EXPERIMENTS = \"./Machine_Learning/DT/modified.csv\"\n",
        "NUM_OF_RUNS = 100\n",
        "MAX_DEPTH = [5, 10]\n",
        "MIN_SAMPLES_AT_LEAF = [5, 10]"
      ],
      "execution_count": 32,
      "outputs": []
    },
    {
      "cell_type": "markdown",
      "metadata": {
        "id": "_w3JrEOCsdxG"
      },
      "source": [
        "## Execução dos experimentos e exportação para arquivo CSV"
      ]
    },
    {
      "cell_type": "code",
      "metadata": {
        "id": "3xI9sfpeskrR"
      },
      "source": [
        "# Runs the data the defined number of times and saves the run results\n",
        "combined_parameters = []\n",
        "for d in MAX_DEPTH:\n",
        "    for s in MIN_SAMPLES_AT_LEAF:\n",
        "        combined_parameters.append([d, s])\n",
        "\n",
        "header = [\"Gini\"]\n",
        "for comb in combined_parameters:\n",
        "    header.append(\"Gini Modified D{0} S{1}\".format(comb[0], comb[1]))\n",
        "run_results = [header]\n",
        "\n",
        "for i in range(NUM_OF_RUNS):\n",
        "    X_train, X_test, Y_train, Y_test = train_test_split(np.array(x), np.array(y).squeeze(), train_size=0.8)\n",
        "    \n",
        "    classifier_gini = tree.DecisionTreeClassifier(criterion='gini')\n",
        "    classifier_gini = classifier_gini.fit(X_train, Y_train)\n",
        "    with open(GINI_BASELINE_GRAPH_FILE, 'w') as out_file:\n",
        "        dot_data = tree.export_graphviz(classifier_gini, feature_names=x.columns, out_file=out_file)\n",
        "    \n",
        "    classifiers = list(map(lambda c : tree.DecisionTreeClassifier(criterion='gini', max_depth=c[0], min_samples_leaf=c[1]),\n",
        "                           combined_parameters))\n",
        "\n",
        "    classifiers = [c.fit(X_train, Y_train) for c in classifiers]\n",
        "\n",
        "    count = 0\n",
        "    for c in classifiers:\n",
        "        output_file = OUTPUT_PATH + 'GINI_MODIFIED_{}'.format(count) + '.dot'\n",
        "        with open(output_file, 'w') as out_file:\n",
        "            dot_data = tree.export_graphviz(c, feature_names=x.columns, out_file=out_file)\n",
        "        count += 1\n",
        "    \n",
        "    gini_score = classifier_gini.score(X_test, Y_test)\n",
        "    modified_score = [ x.score(X_test, Y_test) for x in classifiers ]\n",
        "\n",
        "    current_results = [gini_score]\n",
        "    current_results += modified_score\n",
        "\n",
        "    run_results.append(current_results)  \n",
        "\n",
        "# Save experiments results to CSV file\n",
        "with open(MODIFIED_EXPERIMENTS, 'w') as f:\n",
        "    writer = csv.writer(f)\n",
        "    for result in run_results:\n",
        "        # write the data\n",
        "        writer.writerow(result)\n",
        "\n",
        "f.close()\n"
      ],
      "execution_count": 36,
      "outputs": []
    },
    {
      "cell_type": "markdown",
      "metadata": {
        "id": "qUTtY0Kq82Cd"
      },
      "source": [
        "## Geração das imagens a partir dos arquivos .dot"
      ]
    },
    {
      "cell_type": "code",
      "metadata": {
        "id": "mgdW08b_84U8"
      },
      "source": [
        "!dot -Tpng ./Machine_Learning/DT/GINI_BASELINE.dot -o ./Machine_Learning/DT/GINI_BASELINE.png \n",
        "!dot -Tpng ./Machine_Learning/DT/GINI_MODIFIED_0.dot -o ./Machine_Learning/DT/GINI_MODIFIED_0.png \n",
        "!dot -Tpng ./Machine_Learning/DT/GINI_MODIFIED_1.dot -o ./Machine_Learning/DT/GINI_MODIFIED_1.png \n",
        "!dot -Tpng ./Machine_Learning/DT/GINI_MODIFIED_2.dot -o ./Machine_Learning/DT/GINI_MODIFIED_2.png \n",
        "!dot -Tpng ./Machine_Learning/DT/GINI_MODIFIED_3.dot -o ./Machine_Learning/DT/GINI_MODIFIED_3.png "
      ],
      "execution_count": 37,
      "outputs": []
    }
  ]
}